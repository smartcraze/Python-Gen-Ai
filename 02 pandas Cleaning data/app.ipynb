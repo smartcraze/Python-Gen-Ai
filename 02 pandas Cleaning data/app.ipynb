{
 "cells": [
  {
   "cell_type": "markdown",
   "metadata": {},
   "source": [
    "- Data cleaning means fixing bad data in your data set.\n",
    ">>Bad data could be:\n",
    "\n",
    "- Empty cells\n",
    "- Data in wrong format\n",
    "- Wrong data\n",
    "- Duplicates"
   ]
  },
  {
   "cell_type": "code",
   "execution_count": 8,
   "metadata": {},
   "outputs": [
    {
     "name": "stdout",
     "output_type": "stream",
     "text": [
      "hello world\n"
     ]
    }
   ],
   "source": [
    "print(\"hello world\")"
   ]
  },
  {
   "cell_type": "code",
   "execution_count": 10,
   "metadata": {},
   "outputs": [
    {
     "name": "stdout",
     "output_type": "stream",
     "text": [
      "   id             name   age  gender   income   join_date   department\n",
      "0   1         John Doe  28.0    Male  50000.0  2020-01-15        Sales\n",
      "1   2       Jane Smith  34.0  Female      NaN  2019-03-22  Engineering\n",
      "2   3      Emily Davis  22.0  Female  45000.0  2021-07-08    Marketing\n",
      "3   4    Michael Brown  45.0    Male  80000.0  2018-05-16          NaN\n",
      "4   5  Jessica Johnson   NaN  Female  60000.0  2019-11-12        Sales\n",
      "5   6     David Wilson  30.0    Male  55000.0  2020-09-10  Engineering\n",
      "6   7              NaN  37.0    Male  75000.0  2017-08-24    Marketing\n",
      "7   8   Laura Martinez   NaN  Female  65000.0  2021-02-18        Sales\n",
      "8   9   James Anderson  40.0    Male      NaN  2019-04-30  Engineering\n",
      "9  10      Mary Taylor  50.0  Female  90000.0  2016-06-19    Marketing\n"
     ]
    }
   ],
   "source": [
    "import pandas as pd\n",
    "pf= pd.read_csv('data.csv')\n",
    "print(pf)"
   ]
  },
  {
   "cell_type": "markdown",
   "metadata": {},
   "source": [
    "##### Note: By default, the dropna() method returns a new DataFrame, and will not change the original"
   ]
  },
  {
   "cell_type": "code",
   "execution_count": 11,
   "metadata": {},
   "outputs": [
    {
     "name": "stdout",
     "output_type": "stream",
     "text": [
      "   id          name   age  gender   income   join_date   department\n",
      "0   1      John Doe  28.0    Male  50000.0  2020-01-15        Sales\n",
      "2   3   Emily Davis  22.0  Female  45000.0  2021-07-08    Marketing\n",
      "5   6  David Wilson  30.0    Male  55000.0  2020-09-10  Engineering\n",
      "9  10   Mary Taylor  50.0  Female  90000.0  2016-06-19    Marketing\n"
     ]
    }
   ],
   "source": [
    "import pandas as pd\n",
    "df= pd.read_csv('data.csv')\n",
    "newdf = df.dropna()\n",
    "print(newdf)"
   ]
  },
  {
   "cell_type": "code",
   "execution_count": 12,
   "metadata": {},
   "outputs": [
    {
     "name": "stdout",
     "output_type": "stream",
     "text": [
      "   id          name   age  gender   income   join_date   department\n",
      "0   1      John Doe  28.0    Male  50000.0  2020-01-15        Sales\n",
      "2   3   Emily Davis  22.0  Female  45000.0  2021-07-08    Marketing\n",
      "5   6  David Wilson  30.0    Male  55000.0  2020-09-10  Engineering\n",
      "9  10   Mary Taylor  50.0  Female  90000.0  2016-06-19    Marketing\n"
     ]
    }
   ],
   "source": [
    "import pandas as pd\n",
    "\n",
    "df = pd.read_csv('data.csv')\n",
    "\n",
    "df.dropna(inplace = True)\n",
    "\n",
    "print(df.to_string())"
   ]
  },
  {
   "cell_type": "code",
   "execution_count": 14,
   "metadata": {},
   "outputs": [],
   "source": [
    "import pandas as pd\n",
    "\n",
    "df = pd.read_csv('data.csv')\n",
    "\n",
    "new=df.fillna(130, inplace = True)\n",
    "# print(new)\n",
    "\n"
   ]
  },
  {
   "cell_type": "code",
   "execution_count": null,
   "metadata": {},
   "outputs": [],
   "source": [
    "import pandas as pd\n",
    "\n",
    "df = pd.read_csv('data.csv')\n",
    "\n",
    "df[\"Calories\"].fillna(130, inplace = True)"
   ]
  },
  {
   "cell_type": "code",
   "execution_count": null,
   "metadata": {},
   "outputs": [],
   "source": []
  }
 ],
 "metadata": {
  "kernelspec": {
   "display_name": ".venv",
   "language": "python",
   "name": "python3"
  },
  "language_info": {
   "codemirror_mode": {
    "name": "ipython",
    "version": 3
   },
   "file_extension": ".py",
   "mimetype": "text/x-python",
   "name": "python",
   "nbconvert_exporter": "python",
   "pygments_lexer": "ipython3",
   "version": "3.12.4"
  }
 },
 "nbformat": 4,
 "nbformat_minor": 2
}
